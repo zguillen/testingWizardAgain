{
 "cells": [
  {
   "cell_type": "markdown",
   "id": "04ec6c26",
   "metadata": {},
   "source": [
    "# Julia Dataset Exploration Notebook\n",
    "Shows installing and using common Julia data libraries and accessing the dataset via DATA_DIR or /data."
   ]
  },
  {
   "cell_type": "markdown",
   "id": "5e7c005c",
   "metadata": {},
   "source": [
    "## Install Dependencies\n",
    "Install core data ecosystem packages."
   ]
  },
  {
   "cell_type": "code",
   "execution_count": null,
   "id": "e9de5b9c",
   "metadata": {
    "vscode": {
     "languageId": "julia"
    }
   },
   "outputs": [],
   "source": [
    "import Pkg;\n",
    "Pkg.add([\n",
    "    'DataFrames',\n",
    "    'CSV',\n",
    "    'Plots'\n",
    "]);"
   ]
  },
  {
   "cell_type": "markdown",
   "id": "1e710641",
   "metadata": {},
   "source": [
    "## Load Libraries\n",
    "Load packages for data manipulation and plotting."
   ]
  },
  {
   "cell_type": "code",
   "execution_count": null,
   "id": "2a8047f1",
   "metadata": {
    "vscode": {
     "languageId": "julia"
    }
   },
   "outputs": [],
   "source": [
    "using DataFrames, CSV, Plots\n",
    "@info \"DataFrames version\" DataFrames.VERSION"
   ]
  },
  {
   "cell_type": "markdown",
   "id": "79d5a777",
   "metadata": {},
   "source": [
    "## Inspect Dataset Directory\n",
    "Use ENV[\"DATA_DIR\"] (preferred) and /data to list files. Attempts to read a CSV if present."
   ]
  },
  {
   "cell_type": "code",
   "execution_count": null,
   "id": "dbd87f75",
   "metadata": {
    "vscode": {
     "languageId": "julia"
    }
   },
   "outputs": [],
   "source": [
    "data_dir = ENV[\"DATA_DIR\"]\n",
    "println(\"DATA_DIR = $(data_dir)\")\n",
    "println(\"\\nListing via DATA_DIR:\")\n",
    "for f in readdir(data_dir)\n",
    "    println(\" - \", f)\n",
    "end\n",
    "println(\"\\nListing via /data:\")\n",
    "for f in readdir(\"/data\")\n",
    "    println(\" - \", f)\n",
    "end\n",
    "\n",
    "csvs = filter(f -> endswith(lowercase(f), \".csv\"), readdir(data_dir; join=true))\n",
    "if !isempty(csvs)\n",
    "    df = CSV.read(first(csvs), DataFrame)\n",
    "    println(\"\\nLoaded $(basename(first(csvs))) size = $(size(df))\")\n",
    "    first(df, 5)\n",
    "else\n",
    "    println(\"\\nNo CSV files found.\")\n",
    "end"
   ]
  }
 ],
 "metadata": {
  "language_info": {
   "name": "python"
  }
 },
 "nbformat": 4,
 "nbformat_minor": 5
}
