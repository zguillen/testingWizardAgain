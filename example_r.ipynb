{
 "cells": [
  {
   "cell_type": "markdown",
   "id": "b1e0a738",
   "metadata": {},
   "source": [
    "# R Dataset Exploration Notebook\n",
    "Demonstrates installing packages, loading them, and accessing mounted dataset via DATA_DIR or /data."
   ]
  },
  {
   "cell_type": "markdown",
   "id": "54cac559",
   "metadata": {},
   "source": [
    "## Install Dependencies\n",
    "Installs commonly used data science libraries. Adjust as needed."
   ]
  },
  {
   "cell_type": "code",
   "execution_count": null,
   "id": "a08de8ea",
   "metadata": {
    "vscode": {
     "languageId": "r"
    }
   },
   "outputs": [],
   "source": [
    "install.packages(c('tidyverse','data.table'), repos='https://cloud.r-project.org')"
   ]
  },
  {
   "cell_type": "markdown",
   "id": "e5fbab5c",
   "metadata": {},
   "source": [
    "## Load Libraries\n",
    "Load packages for data manipulation and visualization."
   ]
  },
  {
   "cell_type": "code",
   "execution_count": null,
   "id": "ad66efcd",
   "metadata": {
    "vscode": {
     "languageId": "r"
    }
   },
   "outputs": [],
   "source": [
    "library(tidyverse)\n",
    "library(data.table)\n",
    "packageVersion('tidyverse'); packageVersion('data.table')"
   ]
  },
  {
   "cell_type": "markdown",
   "id": "68330d1a",
   "metadata": {},
   "source": [
    "## Inspect Dataset Directory\n",
    "Use DATA_DIR (preferred) and /data to list files. Example shows reading a CSV if present."
   ]
  },
  {
   "cell_type": "code",
   "execution_count": null,
   "id": "7d1929ef",
   "metadata": {
    "vscode": {
     "languageId": "r"
    }
   },
   "outputs": [],
   "source": [
    "data_dir <- Sys.getenv('DATA_DIR')\n",
    "cat('DATA_DIR =', data_dir, '\\n')\n",
    "cat('\\nListing via DATA_DIR:\\n')\n",
    "print(list.files(data_dir))\n",
    "cat('\\nListing via /data:\\n')\n",
    "print(list.files('/data'))\n",
    "\n",
    "# Example: read first CSV if available\n",
    "csvs <- list.files(data_dir, pattern='\\\\.csv$', full.names=TRUE)\n",
    "if (length(csvs) > 0) {\n",
    "  dt <- fread(csvs[1])\n",
    "  cat('\\nLoaded', basename(csvs[1]), 'dim =', paste(dim(dt), collapse='x'), '\\n')\n",
    "  print(head(dt))\n",
    "} else {\n",
    "  cat('\\nNo CSV files found.')\n",
    "}"
   ]
  }
 ],
 "metadata": {
  "language_info": {
   "name": "python"
  }
 },
 "nbformat": 4,
 "nbformat_minor": 5
}
