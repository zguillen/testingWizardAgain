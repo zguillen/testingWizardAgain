{
 "cells": [
  {
   "cell_type": "markdown",
   "id": "29ed3dc9",
   "metadata": {},
   "source": [
    "# Python Dataset Exploration Notebook\n",
    "This notebook demonstrates how to install dependencies, import common data science libraries, and access the mounted dataset via the DATA_DIR environment variable or /data."
   ]
  },
  {
   "cell_type": "markdown",
   "id": "e2ccedbd",
   "metadata": {},
   "source": [
    "## Install Dependencies\n",
    "Installs packages listed in requirements.txt. Add any additional libraries your analysis needs there."
   ]
  },
  {
   "cell_type": "code",
   "execution_count": null,
   "id": "1d41f1e0",
   "metadata": {},
   "outputs": [],
   "source": [
    "# Install dependencies from requirements.txt (silent)\n",
    "!pip install -r requirements.txt > /dev/null"
   ]
  },
  {
   "cell_type": "markdown",
   "id": "5ee74880",
   "metadata": {},
   "source": [
    "## Import Common Libraries\n",
    "Example imports of widely used data science libraries."
   ]
  },
  {
   "cell_type": "code",
   "execution_count": null,
   "id": "48afe48a",
   "metadata": {},
   "outputs": [],
   "source": [
    "import os\n",
    "from pathlib import Path\n",
    "import pandas as pd\n",
    "import seaborn as sns\n",
    "import matplotlib.pyplot as plt\n",
    "print('pandas version:', pd.__version__)\n",
    "print('seaborn version:', sns.__version__)"
   ]
  },
  {
   "cell_type": "markdown",
   "id": "8eb1255f",
   "metadata": {},
   "source": [
    "## Inspect Dataset Directory\n",
    "DATA_DIR is an environment variable pointing to the mounted (read-only) dataset directory. You can also access it via the /data symlink. Always prefer DATA_DIR for portability."
   ]
  },
  {
   "cell_type": "code",
   "execution_count": null,
   "id": "66a5c880",
   "metadata": {},
   "outputs": [],
   "source": [
    "data_dir = Path(os.environ['DATA_DIR'])\n",
    "print('DATA_DIR =', data_dir)\n",
    "print('\\nListing via DATA_DIR:')\n",
    "for p in data_dir.iterdir():\n",
    "    print(' -', p.name)\n",
    "print('\\nListing via /data:')\n",
    "for p in Path('/data').iterdir():\n",
    "    print(' -', p.name)\n",
    "\n",
    "# Example: load first CSV (if any) into a DataFrame\n",
    "csvs = list(data_dir.glob('*.csv'))\n",
    "if csvs:\n",
    "    df = pd.read_csv(csvs[0])\n",
    "    print('\\nLoaded', csvs[0].name, 'shape =', df.shape)\n",
    "    display(df.head())\n",
    "else:\n",
    "    print('\\nNo CSV files found in dataset root.')"
   ]
  }
 ],
 "metadata": {
  "language_info": {
   "name": "python"
  }
 },
 "nbformat": 4,
 "nbformat_minor": 5
}
